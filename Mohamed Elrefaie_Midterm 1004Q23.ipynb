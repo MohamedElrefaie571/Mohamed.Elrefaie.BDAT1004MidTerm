{
 "cells": [
  {
   "cell_type": "markdown",
   "id": "8e85ec1d-8a73-4e59-aea4-e2a7e48d55ba",
   "metadata": {},
   "source": [
    "# Question 23"
   ]
  },
  {
   "cell_type": "code",
   "execution_count": 1,
   "id": "7c88fbb5-8525-4ee7-9915-5ab5213d307b",
   "metadata": {},
   "outputs": [
    {
     "name": "stdout",
     "output_type": "stream",
     "text": [
      "\n",
      "\n",
      "*\n",
      "*\n",
      "\n",
      "\n",
      "**\n",
      " *\n",
      " *\n",
      "**\n",
      "\n",
      "\n",
      "****\n",
      " ***\n",
      "  **\n",
      "   *\n",
      "   *\n",
      "  **\n",
      " ***\n",
      "****\n"
     ]
    }
   ],
   "source": [
    "def tough(indent, n):\n",
    "    if n > 0:\n",
    "        # Print the top part (ascending)\n",
    "        print(' ' * indent + '*' * n)\n",
    "        \n",
    "        # Recursive call: Reduce the number of asterisks (n-1) and increase indentation\n",
    "        tough(indent + 1, n - 1)\n",
    "        \n",
    "        # Print the bottom part (descending)\n",
    "        print(' ' * indent + '*' * n)\n",
    "\n",
    "# Test cases\n",
    "tough(0, 0)  # Should print nothing\n",
    "print(\"\\n\")\n",
    "tough(0, 1)  # Single line with 1 asterisk\n",
    "print(\"\\n\")\n",
    "tough(0, 2)  # Pattern with 2 as the longest line of asterisks\n",
    "print(\"\\n\")\n",
    "tough(0, 4)  # Pattern with 4 as the longest line of asterisks\n"
   ]
  },
  {
   "cell_type": "code",
   "execution_count": null,
   "id": "cd5e5bf7-4d58-456c-94cb-cc11bf8a8da8",
   "metadata": {},
   "outputs": [],
   "source": []
  }
 ],
 "metadata": {
  "kernelspec": {
   "display_name": "Python 3 (ipykernel)",
   "language": "python",
   "name": "python3"
  },
  "language_info": {
   "codemirror_mode": {
    "name": "ipython",
    "version": 3
   },
   "file_extension": ".py",
   "mimetype": "text/x-python",
   "name": "python",
   "nbconvert_exporter": "python",
   "pygments_lexer": "ipython3",
   "version": "3.13.0"
  }
 },
 "nbformat": 4,
 "nbformat_minor": 5
}
