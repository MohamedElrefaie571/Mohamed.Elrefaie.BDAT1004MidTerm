{
 "cells": [
  {
   "cell_type": "markdown",
   "id": "b305c190-17d6-4db1-8bea-ecdc56da275e",
   "metadata": {},
   "source": [
    "# Question 22"
   ]
  },
  {
   "cell_type": "code",
   "execution_count": 4,
   "id": "c1589752-9b43-47c4-a654-cbdaf756df50",
   "metadata": {},
   "outputs": [
    {
     "name": "stdout",
     "output_type": "stream",
     "text": [
      "   id\n",
      "0   2\n",
      "1   4\n"
     ]
    }
   ],
   "source": [
    "import sqlite3\n",
    "import pandas as pd\n",
    "\n",
    "# Create a connection to the SQLite database\n",
    "conn = sqlite3.connect(':memory:')  # Using in-memory database for simplicity\n",
    "cur = conn.cursor()\n",
    "\n",
    "# Create the Weather table\n",
    "cur.execute('''\n",
    "CREATE TABLE Weather (\n",
    "    id INT,\n",
    "    recordDate DATE,\n",
    "    temperature INT\n",
    ")\n",
    "''')\n",
    "\n",
    "# Insert the data into the Weather table\n",
    "weather_data = [\n",
    "    (1, '2015-01-01', 10),\n",
    "    (2, '2015-01-02', 25),\n",
    "    (3, '2015-01-03', 20),\n",
    "    (4, '2015-01-04', 30)\n",
    "]\n",
    "\n",
    "cur.executemany('INSERT INTO Weather (id, recordDate, temperature) VALUES (?, ?, ?)', weather_data)\n",
    "conn.commit()\n",
    "\n",
    "# Query to find the dates where the temperature is higher than the previous day\n",
    "query = '''\n",
    "SELECT w1.id\n",
    "FROM Weather w1\n",
    "JOIN Weather w2\n",
    "ON w1.recordDate = date(w2.recordDate, '+1 day')\n",
    "WHERE w1.temperature > w2.temperature\n",
    "'''\n",
    "\n",
    "# Execute the query and fetch the results\n",
    "cur.execute(query)\n",
    "result = cur.fetchall()\n",
    "\n",
    "# Display the result\n",
    "result_df = pd.DataFrame(result, columns=['id'])\n",
    "print(result_df)\n"
   ]
  },
  {
   "cell_type": "code",
   "execution_count": null,
   "id": "a068fde3-3b94-4bda-a055-20cdfcf38293",
   "metadata": {},
   "outputs": [],
   "source": []
  },
  {
   "cell_type": "code",
   "execution_count": null,
   "id": "7346da14-f050-4660-8f5f-8eb8ef51c4a6",
   "metadata": {},
   "outputs": [],
   "source": []
  }
 ],
 "metadata": {
  "kernelspec": {
   "display_name": "Python 3 (ipykernel)",
   "language": "python",
   "name": "python3"
  },
  "language_info": {
   "codemirror_mode": {
    "name": "ipython",
    "version": 3
   },
   "file_extension": ".py",
   "mimetype": "text/x-python",
   "name": "python",
   "nbconvert_exporter": "python",
   "pygments_lexer": "ipython3",
   "version": "3.13.0"
  }
 },
 "nbformat": 4,
 "nbformat_minor": 5
}
