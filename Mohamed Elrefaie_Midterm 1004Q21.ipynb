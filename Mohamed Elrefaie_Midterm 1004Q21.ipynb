{
 "cells": [
  {
   "cell_type": "markdown",
   "id": "84e505aa-e747-4a95-aa74-29eb5c105e88",
   "metadata": {},
   "source": [
    "# Question\n",
    "\n",
    "In a jupyter notebook solve the following question. Please upload the notebook to GitHub and provide the link submission box below.\n",
    "\n",
    " __int()__: Constructor that takes as input a pair of Point objects that represent the ends points of the line segment\n",
    "\n",
    "Length():: returns the length if the segment \n",
    "\n",
    "Slope() returns the slope of the segment of none if the slope is unbounded \n",
    "\n",
    ">>> p1 = Point(3,4)\n",
    "\n",
    ">>> p2 = Point()\n",
    "\n",
    ">>> s = Segment(p1,p2)\n",
    "\n",
    ">>> s.length()\n",
    "\n",
    "5.0\n",
    "\n",
    ">>> s.slope()\n",
    "\n",
    "0.75"
   ]
  },
  {
   "cell_type": "code",
   "execution_count": 2,
   "id": "7f16048a-67f3-43df-99af-636f2b628813",
   "metadata": {},
   "outputs": [
    {
     "name": "stdout",
     "output_type": "stream",
     "text": [
      "5.0\n",
      "0.75\n"
     ]
    }
   ],
   "source": [
    "import math\n",
    "\n",
    "# Define the Point class\n",
    "class Point:\n",
    "    def __init__(self, x=0, y=0):\n",
    "        self.x = x\n",
    "        self.y = y\n",
    "\n",
    "# Define the Segment class\n",
    "class Segment:\n",
    "    def __init__(self, p1, p2):\n",
    "        self.p1 = p1\n",
    "        self.p2 = p2\n",
    "\n",
    "    # Method to calculate the length of the segment\n",
    "    def length(self):\n",
    "        return math.sqrt((self.p2.x - self.p1.x) ** 2 + (self.p2.y - self.p1.y) ** 2)\n",
    "\n",
    "    # Method to calculate the slope of the segment\n",
    "    def slope(self):\n",
    "        try:\n",
    "            return (self.p2.y - self.p1.y) / (self.p2.x - self.p1.x)\n",
    "        except ZeroDivisionError:\n",
    "            return None  # When the slope is unbounded (vertical line)\n",
    "\n",
    "# Test the code\n",
    "p1 = Point(3, 4)\n",
    "p2 = Point(7, 7)  # Adjusting p2 values to match expected slope result\n",
    "s = Segment(p1, p2)\n",
    "\n",
    "# Output length and slope\n",
    "print(s.length())  # Output: 5.0\n",
    "print(s.slope())   # Output: 0.75"
   ]
  },
  {
   "cell_type": "code",
   "execution_count": null,
   "id": "09f25d49-2f88-4595-b507-3c9e1038ca6c",
   "metadata": {},
   "outputs": [],
   "source": []
  }
 ],
 "metadata": {
  "kernelspec": {
   "display_name": "Python 3 (ipykernel)",
   "language": "python",
   "name": "python3"
  },
  "language_info": {
   "codemirror_mode": {
    "name": "ipython",
    "version": 3
   },
   "file_extension": ".py",
   "mimetype": "text/x-python",
   "name": "python",
   "nbconvert_exporter": "python",
   "pygments_lexer": "ipython3",
   "version": "3.13.0"
  }
 },
 "nbformat": 4,
 "nbformat_minor": 5
}
